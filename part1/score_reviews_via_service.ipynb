{
 "cells": [
  {
   "cell_type": "markdown",
   "metadata": {},
   "source": [
    "## Part 1: Existing Machine Learning Services\n",
    "\n",
    "<a href=\"https://colab.research.google.com/github/peckjon/hosting-ml-as-microservice/blob/master/part1/score_reviews_via_service.ipynb\" target=\"_parent\"><img src=\"https://colab.research.google.com/assets/colab-badge.svg\" alt=\"Open In Colab\"/></a>"
   ]
  },
  {
   "cell_type": "markdown",
   "metadata": {},
   "source": [
    "### Obtain labelled reviews\n",
    "\n",
    "In order to test any of the sentiment analysis APIs, we need a labelled dataset of reviews and their sentiment polarity. We'll use NLTK to download the movie_reviews corpus."
   ]
  },
  {
   "cell_type": "code",
   "execution_count": null,
   "metadata": {
    "pycharm": {
     "name": "#%%\n"
    }
   },
   "outputs": [],
   "source": [
    "from nltk import download\n",
    "\n",
    "download('movie_reviews')"
   ]
  },
  {
   "cell_type": "markdown",
   "metadata": {},
   "source": [
    "### Load the data\n",
    "\n",
    "The files in movie_reviews have already been divided into two sets: positive ('pos') and negative ('neg'), so we can load the raw text of the reviews into two lists, one for each polarity."
   ]
  },
  {
   "cell_type": "code",
   "execution_count": null,
   "metadata": {},
   "outputs": [],
   "source": [
    "from nltk.corpus import movie_reviews\n",
    "\n",
    "# extract words from reviews, pair with label\n",
    "\n",
    "reviews_pos = []\n",
    "for fileid in movie_reviews.fileids('pos'):\n",
    "    review = movie_reviews.raw(fileid)\n",
    "    if(len(review)<= 5000): # since Amazon AWS Comprehend has record limit of 5000 filtering lonner reviews\n",
    "        reviews_pos.append(review)\n",
    "print(\"Positive Reviews Count: \" + str(len(reviews_pos)))\n",
    "\n",
    "reviews_neg = []\n",
    "for fileid in movie_reviews.fileids('neg'):\n",
    "    review = movie_reviews.raw(fileid)\n",
    "    if(len(review)<= 5000): # since Amazon AWS Comprehend has record limit of 5000 filtering lonner reviews\n",
    "        reviews_neg.append(review)\n",
    "print(\"Negative Reviews: \" + str(len(reviews_neg)))"
   ]
  },
  {
   "cell_type": "code",
   "execution_count": null,
   "metadata": {},
   "outputs": [],
   "source": [
    "#getting Sentiment weights\n",
    "def extract_values(obj, key):\n",
    "    \"\"\"Pull all values of specified key from nested JSON.\"\"\"\n",
    "    arr = []\n",
    "\n",
    "    def extract(obj, arr, key):\n",
    "        \"\"\"Recursively search for values of key in JSON tree.\"\"\"\n",
    "        for k, v in obj.items():\n",
    "            if isinstance(v, (dict, list)):\n",
    "                extract(v, arr, key)\n",
    "            elif k == key:\n",
    "                arr.append(v)\n",
    "        return arr\n",
    "\n",
    "    results = extract(obj, arr, key)\n",
    "    return results"
   ]
  },
  {
   "cell_type": "markdown",
   "metadata": {},
   "source": [
    "### Connect to the scoring API\n",
    "\n",
    "Fill in this function with code that connects to one of these APIs, and uses it to score a single review:\n",
    "\n",
    "* [Amazon Comprehend: Detect Sentiment](https://docs.aws.amazon.com/comprehend/latest/dg/API_DetectSentiment.html)\n",
    "* [Google Natural Language: Analyzing Sentiment](https://cloud.google.com/natural-language/docs/analyzing-sentiment)\n",
    "* [Azure Cognitive Services: Sentiment Analysis](https://docs.microsoft.com/en-us/azure/cognitive-services/text-analytics/how-tos/text-analytics-how-to-sentiment-analysis)\n",
    "* [Algorithmia: Sentiment Analysis](https://algorithmia.com/algorithms/nlp/SentimentAnalysis)\n",
    "\n",
    "Your function must return either 'pos' or 'neg', so you'll need to make some decisions about how to map the results of the API call to one of these values. For example, Amazon Comprehend can return \"NEUTRAL\" or \"MIXED\" for the Sentiment -- if this happens, you may with to inspect the numeric values under the SentimentScore to see whether it leans toward positive or negative.\n"
   ]
  },
  {
   "cell_type": "code",
   "execution_count": null,
   "metadata": {},
   "outputs": [],
   "source": [
    "import boto3\n",
    "import json\n",
    "\n",
    "# Classify all the review sentiments as Positive or Negative\n",
    "def score_review(review):\n",
    "    comprehend = boto3.client(service_name='comprehend', region_name='ap-southeast-1')\n",
    "    sentimentrec = comprehend.detect_sentiment(Text=review, LanguageCode='en')\n",
    "    ambiguous_sentiments =[\"NEUTRAL\", \"MIXED\"]\n",
    "\n",
    "     # Sentiment is  ambiguous - Mixed or Neutral\n",
    "    if(sentimentrec['Sentiment'] in ambiguous_sentiments):\n",
    "        pos_weight = extract_values(sentimentrec, 'Positive')[0]\n",
    "        neg_weight = extract_values(sentimentrec, 'Negative')[0]\n",
    "        if(pos_weight >= neg_weight):\n",
    "            user_sentiment = 'pos'\n",
    "        else:\n",
    "            user_sentiment = 'neg'\n",
    "            \n",
    "    # Sentiment is clear - Positive or Negative\n",
    "    if(sentimentrec['Sentiment'] == 'POSITIVE'):\n",
    "        user_sentiment = 'pos'\n",
    "    else:\n",
    "        user_sentiment = 'neg'\n",
    "    return user_sentiment"
   ]
  },
  {
   "cell_type": "markdown",
   "metadata": {},
   "source": [
    "### Score each review\n",
    "\n",
    "Now, we can use the function you defined to score each of the reviews"
   ]
  },
  {
   "cell_type": "code",
   "execution_count": null,
   "metadata": {
    "collapsed": true
   },
   "outputs": [],
   "source": [
    "results_pos = []\n",
    "for review in reviews_pos:\n",
    "    result = score_review(review)\n",
    "    results_pos.append(result)\n",
    "\n",
    "results_neg = []\n",
    "for review in reviews_neg:\n",
    "    result = score_review(review)\n",
    "    results_neg.append(result)"
   ]
  },
  {
   "cell_type": "markdown",
   "metadata": {},
   "source": [
    "### Calculate accuracy\n",
    "\n",
    "For each of our known positive reviews, we can count the number which our function scored as 'pos', and use this to calculate the % accuracy. We repeaty this for negative reviews, and also for overall accuracy."
   ]
  },
  {
   "cell_type": "code",
   "execution_count": null,
   "metadata": {},
   "outputs": [],
   "source": [
    "correct_pos = results_pos.count('pos')\n",
    "accuracy_pos = float(correct_pos) / len(results_pos)\n",
    "correct_neg = results_neg.count('neg')\n",
    "accuracy_neg = float(correct_neg) / len(results_neg)\n",
    "correct_all = correct_pos + correct_neg\n",
    "accuracy_all = float(correct_all) / (len(results_pos)+len(results_neg))\n",
    "\n",
    "print('Positive reviews: {}% correct'.format(accuracy_pos*100))\n",
    "print('Negative reviews: {}% correct'.format(accuracy_neg*100))\n",
    "print('Overall accuracy: {}% correct'.format(accuracy_all*100))"
   ]
  }
 ],
 "metadata": {
  "anaconda-cloud": {},
  "kernelspec": {
   "display_name": "Python 3",
   "language": "python",
   "name": "python3"
  },
  "language_info": {
   "codemirror_mode": {
    "name": "ipython",
    "version": 3
   },
   "file_extension": ".py",
   "mimetype": "text/x-python",
   "name": "python",
   "nbconvert_exporter": "python",
   "pygments_lexer": "ipython3",
   "version": "3.8.2"
  },
  "pycharm": {
   "stem_cell": {
    "cell_type": "raw",
    "metadata": {
     "collapsed": false
    },
    "source": []
   }
  }
 },
 "nbformat": 4,
 "nbformat_minor": 1
}
